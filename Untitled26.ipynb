{
  "nbformat": 4,
  "nbformat_minor": 0,
  "metadata": {
    "colab": {
      "provenance": [],
      "authorship_tag": "ABX9TyO4ZPSH3g9agWYRRuXfhGo2",
      "include_colab_link": true
    },
    "kernelspec": {
      "name": "python3",
      "display_name": "Python 3"
    },
    "language_info": {
      "name": "python"
    }
  },
  "cells": [
    {
      "cell_type": "markdown",
      "metadata": {
        "id": "view-in-github",
        "colab_type": "text"
      },
      "source": [
        "<a href=\"https://colab.research.google.com/github/fedor44/crawling_KOSPI/blob/main/Untitled26.ipynb\" target=\"_parent\"><img src=\"https://colab.research.google.com/assets/colab-badge.svg\" alt=\"Open In Colab\"/></a>"
      ]
    },
    {
      "cell_type": "code",
      "execution_count": 42,
      "metadata": {
        "id": "95hnA9MErdUQ"
      },
      "outputs": [],
      "source": [
        "from urllib.request import urlopen\n",
        "import bs4\n",
        "import datetime as dt\n",
        "import pandas as pd\n",
        "\n",
        "historical_prices = []\n",
        "def date_format(d):\n",
        "  d = str(d).replace('-','.')\n",
        "  yyyy = int(d.split('.')[0])\n",
        "  mm = int(d.split('.')[1])\n",
        "  dd = int(d.split('.')[2])\n",
        "\n",
        "  this_date = dt.date(yyyy,mm,dd)\n",
        "  return this_date\n",
        "\n",
        "# 주가 지수 제공 사이트에서 주가 지수 정보 크롤링\n",
        "def historical_index_naver(index_cd,page_n,last_page):\n",
        "  naver_index = 'https://finance.naver.com/sise/sise_index_day.nhn?code={code}&page={page}'.format(code = index_cd,page = page_n)\n",
        "  source = urlopen(naver_index).read()\n",
        "  source = bs4.BeautifulSoup(source,'lxml')\n",
        "\n",
        "  date = source.find_all('td','date')\n",
        "  price = source.find_all('td','number_1')\n",
        "\n",
        "  for n in range(len(date)):\n",
        "    if date[n].text.split('.')[0].isdigit():\n",
        "      this_date = date[n].text\n",
        "      this_date = date_format(this_date)\n",
        "\n",
        "      # 특정 날짜 이후의 데이터만 수집\n",
        "      limit_time = dt.date(2020,4,1) \n",
        "      if limit_time > this_date:\n",
        "        return\n",
        "      \n",
        "      this_close = price[n*4].text\n",
        "      this_close = this_close.replace(',', '')\n",
        "      this_close = float(this_close)\n",
        "      line = []\n",
        "      line.append(this_date)\n",
        "      line.append(this_close)\n",
        "      historical_prices.append(line)      \n",
        "\n",
        "  # 현재부터 특정 날짜까지 계속해서 데이터 수집 \n",
        "  if last_page == 0:\n",
        "      last_page = source.find('td','pgRR').find('a')['href']\n",
        "      last_page = last_page.split('&')[1]\n",
        "      last_page = last_page.split('=')[1]\n",
        "      last_page = int(last_page)\n",
        "  if page_n < last_page:\n",
        "    page_n = page_n+1\n",
        "    historical_index_naver(index_cd,page_n,last_page)\n",
        "\n",
        "# KOSPI 지수 크롤링 실행\n",
        "historical_index_naver('KOSPI',1,0)\n",
        "\n",
        "# csv 파일로 로드한 정보 저장 (전처리 필요)\n",
        "items = pd.DataFrame(historical_prices)\n",
        "items.columns = ['날짜', 'KOSPI 지수']\n",
        "items.to_csv('지수정보.csv', index=False, encoding=\"euc-kr\")"
      ]
    }
  ]
}